{
  "nbformat": 4,
  "nbformat_minor": 0,
  "metadata": {
    "colab": {
      "name": "Applied Data Science Capstone Intro.ipynb",
      "provenance": [],
      "authorship_tag": "ABX9TyNalR7zWotCbtL0iCDLWJ6H",
      "include_colab_link": true
    },
    "kernelspec": {
      "name": "python3",
      "display_name": "Python 3"
    }
  },
  "cells": [
    {
      "cell_type": "markdown",
      "metadata": {
        "id": "view-in-github",
        "colab_type": "text"
      },
      "source": [
        "<a href=\"https://colab.research.google.com/github/quoccuonglqd/Coursera_Capstone/blob/main/Applied_Data_Science_Capstone_Intro.ipynb\" target=\"_parent\"><img src=\"https://colab.research.google.com/assets/colab-badge.svg\" alt=\"Open In Colab\"/></a>"
      ]
    },
    {
      "cell_type": "markdown",
      "metadata": {
        "id": "YyAGdEbDqkKe"
      },
      "source": [
        "#Introduction\n",
        "This is our assignment for the the course \"Applied Data Science Capstone\" course of Coursera"
      ]
    },
    {
      "cell_type": "code",
      "metadata": {
        "id": "zJM43FgWqyN5"
      },
      "source": [
        "import pandas as pd\n",
        "import numpy as np"
      ],
      "execution_count": null,
      "outputs": []
    },
    {
      "cell_type": "code",
      "metadata": {
        "id": "fX2f__ppq4L3",
        "outputId": "c2c32308-5ec8-4a57-b72e-a515577f8f17",
        "colab": {
          "base_uri": "https://localhost:8080/",
          "height": 34
        }
      },
      "source": [
        "print('Hello Capstone Project Course!')"
      ],
      "execution_count": null,
      "outputs": [
        {
          "output_type": "stream",
          "text": [
            "Hello Capstone Project Course!\n"
          ],
          "name": "stdout"
        }
      ]
    }
  ]
}